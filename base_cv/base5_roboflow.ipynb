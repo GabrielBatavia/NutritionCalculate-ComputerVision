{
 "cells": [
  {
   "metadata": {
    "ExecuteTime": {
     "end_time": "2024-10-14T14:03:08.750208Z",
     "start_time": "2024-10-14T14:03:08.735480Z"
    }
   },
   "cell_type": "code",
   "source": [
    "from inference_sdk import InferenceHTTPClient\n",
    "\n",
    "CLIENT = InferenceHTTPClient(\n",
    "    api_url=\"https://detect.roboflow.com\",\n",
    "    api_key=\"0qO2Cf86ZBdAnm2GKyvj\"\n",
    ")\n"
   ],
   "id": "edb219048530bfe",
   "outputs": [],
   "execution_count": 19
  },
  {
   "metadata": {
    "ExecuteTime": {
     "end_time": "2024-10-14T14:03:08.966309Z",
     "start_time": "2024-10-14T14:03:08.933450Z"
    }
   },
   "cell_type": "code",
   "source": [
    "import os\n",
    "import random\n",
    "from PIL import Image\n",
    "import cv2\n",
    "import matplotlib as plt\n",
    "\n",
    "# Load your image (use your own image path here)\n",
    "main_directory = '../dataset_padang_food'\n",
    "\n",
    "# Pilih folder dan gambar acak dari dataset seperti sebelumnya\n",
    "folders = [f for f in os.listdir(main_directory) if os.path.isdir(os.path.join(main_directory, f))]\n",
    "random_folder = random.choice(folders)\n",
    "random_folder_path = os.path.join(main_directory, random_folder)\n",
    "image_files = [f for f in os.listdir(random_folder_path) if f.endswith(('jpg', 'jpeg', 'png'))]\n",
    "random_image_file = random.choice(image_files)\n",
    "random_image_path = os.path.join(random_folder_path, random_image_file)\n",
    "\n",
    "image = Image.open(random_image_path)"
   ],
   "id": "8438b7c5dd473b5b",
   "outputs": [],
   "execution_count": 20
  },
  {
   "metadata": {
    "ExecuteTime": {
     "end_time": "2024-10-14T14:03:16.890644Z",
     "start_time": "2024-10-14T14:03:14.237847Z"
    }
   },
   "cell_type": "code",
   "source": [
    "result = CLIENT.infer(image, model_id=\"indonesian-food-2000/2\")\n",
    "print(result)"
   ],
   "id": "3844d72f019976fe",
   "outputs": [
    {
     "name": "stdout",
     "output_type": "stream",
     "text": [
      "{'inference_id': '2c06c27d-b2ba-4f6e-924f-56c42e4b6149', 'time': 0.08898608799972862, 'image': {'width': 720, 'height': 701}, 'predictions': [{'x': 180.5, 'y': 461.5, 'width': 335.0, 'height': 271.0, 'confidence': 0.7272754311561584, 'class': 'nasi putih', 'class_id': 1, 'detection_id': '3014d35e-07be-4e0b-9c03-3501910eccd9'}]}\n"
     ]
    }
   ],
   "execution_count": 22
  }
 ],
 "metadata": {
  "kernelspec": {
   "display_name": "Python 3",
   "language": "python",
   "name": "python3"
  },
  "language_info": {
   "codemirror_mode": {
    "name": "ipython",
    "version": 2
   },
   "file_extension": ".py",
   "mimetype": "text/x-python",
   "name": "python",
   "nbconvert_exporter": "python",
   "pygments_lexer": "ipython2",
   "version": "2.7.6"
  }
 },
 "nbformat": 4,
 "nbformat_minor": 5
}
