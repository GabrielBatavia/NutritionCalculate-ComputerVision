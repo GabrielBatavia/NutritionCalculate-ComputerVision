{
 "cells": [
  {
   "cell_type": "code",
   "id": "initial_id",
   "metadata": {
    "collapsed": true,
    "ExecuteTime": {
     "end_time": "2024-10-10T09:48:14.179918Z",
     "start_time": "2024-10-10T09:48:12.374817Z"
    }
   },
   "source": [
    "from transformers import ViTImageProcessor, ViTForImageClassification\n",
    "from PIL import Image\n",
    "import torch\n",
    "import os\n",
    "import random\n",
    "\n",
    "# Load the model and processor\n",
    "processor = ViTImageProcessor.from_pretrained('nateraw/food')\n",
    "model = ViTForImageClassification.from_pretrained('nateraw/food')\n",
    "\n",
    "# Load your image (use your own image path here)\n",
    "main_directory = '../dataset_padang_food'\n",
    "\n",
    "# Pilih folder dan gambar acak dari dataset seperti sebelumnya\n",
    "folders = [f for f in os.listdir(main_directory) if os.path.isdir(os.path.join(main_directory, f))]\n",
    "random_folder = random.choice(folders)\n",
    "random_folder_path = os.path.join(main_directory, random_folder)\n",
    "image_files = [f for f in os.listdir(random_folder_path) if f.endswith(('jpg', 'jpeg', 'png'))]\n",
    "random_image_file = random.choice(image_files)\n",
    "random_image_path = os.path.join(random_folder_path, random_image_file)\n",
    "\n",
    "image = Image.open(random_image_path)\n",
    "\n",
    "# Preprocess the image\n",
    "inputs = processor(images=image, return_tensors=\"pt\")\n",
    "\n",
    "# Run the image through the model\n",
    "with torch.no_grad():\n",
    "    outputs = model(**inputs)\n",
    "\n",
    "# Get predicted class\n",
    "logits = outputs.logits\n",
    "predicted_class_idx = logits.argmax(-1).item()\n",
    "\n",
    "print(f\"Predicted class index: {predicted_class_idx}\")\n"
   ],
   "outputs": [
    {
     "name": "stdout",
     "output_type": "stream",
     "text": [
      "Predicted class index: 4\n"
     ]
    }
   ],
   "execution_count": 3
  },
  {
   "metadata": {
    "ExecuteTime": {
     "end_time": "2024-10-10T09:48:09.263126Z",
     "start_time": "2024-10-10T09:48:09.254534Z"
    }
   },
   "cell_type": "code",
   "source": "print(f\"Predicted class index: {predicted_class_idx}\")",
   "id": "67c3010c74767c71",
   "outputs": [
    {
     "name": "stdout",
     "output_type": "stream",
     "text": [
      "Predicted class index: 77\n"
     ]
    }
   ],
   "execution_count": 2
  },
  {
   "metadata": {},
   "cell_type": "code",
   "outputs": [],
   "execution_count": null,
   "source": "",
   "id": "aa170540ddd47208"
  }
 ],
 "metadata": {
  "kernelspec": {
   "display_name": "Python 3",
   "language": "python",
   "name": "python3"
  },
  "language_info": {
   "codemirror_mode": {
    "name": "ipython",
    "version": 2
   },
   "file_extension": ".py",
   "mimetype": "text/x-python",
   "name": "python",
   "nbconvert_exporter": "python",
   "pygments_lexer": "ipython2",
   "version": "2.7.6"
  }
 },
 "nbformat": 4,
 "nbformat_minor": 5
}
