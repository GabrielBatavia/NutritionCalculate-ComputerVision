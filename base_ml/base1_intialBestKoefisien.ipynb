{
 "cells": [
  {
   "cell_type": "code",
   "id": "initial_id",
   "metadata": {
    "collapsed": true,
    "ExecuteTime": {
     "end_time": "2024-10-13T13:52:49.109899Z",
     "start_time": "2024-10-13T13:52:49.006296Z"
    }
   },
   "source": [
    "import numpy as np\n",
    "\n",
    "# Fungsi untuk memprediksi berat\n",
    "def predict_weight(width, height, a, b, class_adjustment):\n",
    "    return (a * width) + (b * height) + class_adjustment\n",
    "\n",
    "# Data yang akan diuji\n",
    "width = 100\n",
    "height = 200\n",
    "actual_weight = 200  # berat sebenarnya untuk nasi\n",
    "\n",
    "# Rentang koefisien yang akan diuji\n",
    "a_values = np.arange(0.1, 1.1, 0.1)\n",
    "b_values = np.arange(0.1, 1.1, 0.1)\n",
    "class_adjustment = 50  # untuk nasi\n",
    "\n",
    "# Menyimpan hasil kesalahan\n",
    "results = []\n",
    "\n",
    "# Uji berbagai kombinasi koefisien\n",
    "for a in a_values:\n",
    "    for b in b_values:\n",
    "        predicted_weight = predict_weight(width, height, a, b, class_adjustment)\n",
    "        error = abs(predicted_weight - actual_weight)  # Hitung kesalahan\n",
    "        results.append((a, b, predicted_weight, error))\n",
    "\n",
    "# Temukan kombinasi terbaik\n",
    "best_result = min(results, key=lambda x: x[3])  # Min kesalahan\n",
    "print(\"Koefisien terbaik: a = {}, b = {}, Prediksi berat = {}, Kesalahan = {}\".format(best_result[0], best_result[1], best_result[2], best_result[3]))\n"
   ],
   "outputs": [
    {
     "name": "stdout",
     "output_type": "stream",
     "text": [
      "Koefisien terbaik: a = 0.1, b = 0.7000000000000001, Prediksi berat = 200.0, Kesalahan = 0.0\n"
     ]
    }
   ],
   "execution_count": 1
  },
  {
   "metadata": {},
   "cell_type": "code",
   "outputs": [],
   "execution_count": null,
   "source": "",
   "id": "5025c5e945b51a7f"
  }
 ],
 "metadata": {
  "kernelspec": {
   "display_name": "Python 3",
   "language": "python",
   "name": "python3"
  },
  "language_info": {
   "codemirror_mode": {
    "name": "ipython",
    "version": 2
   },
   "file_extension": ".py",
   "mimetype": "text/x-python",
   "name": "python",
   "nbconvert_exporter": "python",
   "pygments_lexer": "ipython2",
   "version": "2.7.6"
  }
 },
 "nbformat": 4,
 "nbformat_minor": 5
}
