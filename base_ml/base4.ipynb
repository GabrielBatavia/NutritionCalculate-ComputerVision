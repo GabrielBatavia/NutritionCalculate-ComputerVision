{
 "cells": [
  {
   "metadata": {},
   "cell_type": "markdown",
   "source": [
    "# Food Recommendation Model Overview\n",
    "\n",
    "This code implements a neural network model using PyTorch for recommending food items based on user-specific inputs such as age, weight, and activity level. The model processes various features like the physical dimensions of food images (width, height) and user characteristics to predict the best-suited food class from a predefined set of 12 food items. The main components of the code are as follows:\n",
    "\n",
    "### Data Preparation\n",
    "\n",
    "1. **Food Classes**: \n",
    "    - A list of 12 food items such as \"nasi\", \"ayam\", \"ikan\", etc., each associated with nutritional information (calories, protein, fat).\n",
    "\n",
    "2. **Nutritional Values**:\n",
    "    - Dummy nutritional values for each food class are provided, defining calories, protein, and fat per 100 grams of food.\n",
    "\n",
    "3. **User Data**:\n",
    "    - User-specific attributes such as age, weight, and activity levels are defined as input features to the model.\n",
    "\n",
    "4. **Dataset Generation**:\n",
    "    - A dummy dataset is created with random values for food dimensions, user features, and calculated nutritional values for training the model.\n",
    "\n",
    "### Model Architecture\n",
    "\n",
    "The `FoodRecommendationModel` is a feedforward neural network built with the following layers:\n",
    "- **Input Layer**: The input size is set to 7, representing the features: food image dimensions (width, height), user-specific data (age, weight, activity level), and the nutritional information (calories, protein, fat).\n",
    "- **Two Hidden Layers**: Each hidden layer contains 128 neurons with ReLU activation functions.\n",
    "- **Output Layer**: This layer produces a probability distribution across the 12 food classes, indicating the recommended food based on the input.\n",
    "\n",
    "### Model Training\n",
    "\n",
    "- **Loss Function**: The model uses `CrossEntropyLoss`, suitable for multi-class classification tasks.\n",
    "- **Optimizer**: Adam optimizer with a learning rate of 0.001 is used to update the model's parameters during training.\n",
    "- **Training Loop**: A dummy training loop is run for 10 epochs with random data to simulate the training process.\n",
    "\n",
    "### Example Prediction\n",
    "\n",
    "After training, the model can predict the recommended food class based on the given input features. For instance, providing inputs such as:\n",
    "- Food dimensions: `250 x 300` \n",
    "- Food weight: `150g`\n",
    "- User details: age `36`, weight `75kg`, and activity level `1.75`\n",
    "The model outputs a recommendation for the most suitable food from the available classes.\n",
    "\n"
   ],
   "id": "faecadac5b5e86cf"
  },
  {
   "metadata": {
    "ExecuteTime": {
     "end_time": "2024-10-16T01:58:08.315758Z",
     "start_time": "2024-10-16T01:58:02.011957Z"
    }
   },
   "cell_type": "code",
   "source": [
    "import torch\n",
    "import torch.nn as nn\n",
    "import torch.optim as optim\n",
    "import pandas as pd\n",
    "import numpy as np\n",
    "\n",
    "# Dummy data food classes\n",
    "food_classes = [\"nasi\", \"ayam\", \"kentang\", \"ikan\", \"sayur\", \"buah\", \"telur\", \"daging\", \"susu\", \"roti\", \"keju\", \"mie\"]\n",
    "num_classes = len(food_classes)\n",
    "\n",
    "# Dummy nutritional values for each food class\n",
    "nutritional_values = {\n",
    "    \"nasi\": {\"kalori\": 130, \"protein\": 2.5, \"lemak\": 0.3},\n",
    "    \"ayam\": {\"kalori\": 239, \"protein\": 27, \"lemak\": 14},\n",
    "    \"kentang\": {\"kalori\": 77, \"protein\": 2, \"lemak\": 0.1},\n",
    "    \"ikan\": {\"kalori\": 206, \"protein\": 22, \"lemak\": 12},\n",
    "    \"sayur\": {\"kalori\": 25, \"protein\": 1.8, \"lemak\": 0.2},\n",
    "    \"buah\": {\"kalori\": 52, \"protein\": 0.5, \"lemak\": 0.2},\n",
    "    \"telur\": {\"kalori\": 155, \"protein\": 13, \"lemak\": 11},\n",
    "    \"daging\": {\"kalori\": 250, \"protein\": 26, \"lemak\": 15},\n",
    "    \"susu\": {\"kalori\": 42, \"protein\": 3.4, \"lemak\": 1},\n",
    "    \"roti\": {\"kalori\": 265, \"protein\": 9, \"lemak\": 3.2},\n",
    "    \"keju\": {\"kalori\": 402, \"protein\": 25, \"lemak\": 33},\n",
    "    \"mie\": {\"kalori\": 138, \"protein\": 4.5, \"lemak\": 2}\n",
    "}\n",
    "\n",
    "# Dummy user data\n",
    "user_data = {\n",
    "    \"user_age\": [25, 30, 36, 40, 50],\n",
    "    \"user_weight\": [70, 80, 90, 60, 75],\n",
    "    \"activity_level\": [1.2, 1.5, 1.75, 2.0]  # This represents activity multipliers (sedentary, moderate, active, very active)\n",
    "}\n",
    "\n",
    "# Creating dummy dataset for training\n",
    "def create_dummy_dataset(num_samples=100):\n",
    "    data = []\n",
    "    for _ in range(num_samples):\n",
    "        width = np.random.randint(50, 500)  # Dummy width\n",
    "        height = np.random.randint(50, 500)  # Dummy height\n",
    "        food_class_idx = np.random.randint(0, num_classes)  # Random food class\n",
    "        food_class = food_classes[food_class_idx]\n",
    "        food_weight = np.random.uniform(50, 300)  # Random food weight\n",
    "        user_age = np.random.choice(user_data[\"user_age\"])\n",
    "        user_weight = np.random.choice(user_data[\"user_weight\"])\n",
    "        activity_level = np.random.choice(user_data[\"activity_level\"])\n",
    "\n",
    "        # Get nutritional data based on the food class and weight\n",
    "        nutrisi = nutritional_values[food_class]\n",
    "        kalori = (nutrisi[\"kalori\"] / 100) * food_weight\n",
    "        protein = (nutrisi[\"protein\"] / 100) * food_weight\n",
    "        lemak = (nutrisi[\"lemak\"] / 100) * food_weight\n",
    "\n",
    "        # Store the data\n",
    "        data.append([width, height, food_class_idx, food_weight, user_age, user_weight, activity_level, kalori, protein, lemak])\n",
    "\n",
    "    columns = ['width', 'height', 'food_class_idx', 'food_weight', 'user_age', 'user_weight', 'activity_level', 'kalori', 'protein', 'lemak']\n",
    "    return pd.DataFrame(data, columns=columns)\n",
    "\n",
    "# Generate dataset\n",
    "dataset = create_dummy_dataset(num_samples=500)\n",
    "print(dataset.head())\n",
    "\n",
    "# Save dataset for further use\n",
    "dataset.to_csv('food_recommendation_dummy_data.csv', index=False)"
   ],
   "id": "e731521acb17269d",
   "outputs": [
    {
     "name": "stdout",
     "output_type": "stream",
     "text": [
      "   width  height  food_class_idx  food_weight  user_age  user_weight  \\\n",
      "0    244     112               4   145.127506        50           70   \n",
      "1    446     319              10   220.660966        36           80   \n",
      "2    451     204               1    51.072504        36           60   \n",
      "3    122     298              11   235.484485        25           90   \n",
      "4    236     233               4   271.326256        40           80   \n",
      "\n",
      "   activity_level      kalori    protein      lemak  \n",
      "0             1.5   36.281877   2.612295   0.290255  \n",
      "1             2.0  887.057085  55.165242  72.818119  \n",
      "2             2.0  122.063283  13.789576   7.150150  \n",
      "3             1.2  324.968589  10.596802   4.709690  \n",
      "4             1.2   67.831564   4.883873   0.542653  \n"
     ]
    }
   ],
   "execution_count": 1
  },
  {
   "metadata": {
    "ExecuteTime": {
     "end_time": "2024-10-16T01:58:17.937020Z",
     "start_time": "2024-10-16T01:58:15.663526Z"
    }
   },
   "cell_type": "code",
   "source": [
    "class FoodRecommendationModel(nn.Module):\n",
    "    def __init__(self, num_classes, input_size=7, hidden_size=128):\n",
    "        super(FoodRecommendationModel, self).__init__()\n",
    "        # Input size corresponds to width, height, user features, etc.\n",
    "        self.fc1 = nn.Linear(input_size, hidden_size)\n",
    "        self.fc2 = nn.Linear(hidden_size, hidden_size)\n",
    "        self.fc3 = nn.Linear(hidden_size, num_classes)  # Output for food classes (rekomendasi makanan)\n",
    "    \n",
    "    def forward(self, x):\n",
    "        x = torch.relu(self.fc1(x))\n",
    "        x = torch.relu(self.fc2(x))\n",
    "        x = self.fc3(x)  # No activation since it's multi-class prediction\n",
    "        return x\n",
    "\n",
    "# Hyperparameters\n",
    "input_size = 7  # Features: width, height, user_age, user_weight, activity_level, etc.\n",
    "hidden_size = 128\n",
    "num_classes = len(food_classes)\n",
    "\n",
    "# Initialize model\n",
    "model = FoodRecommendationModel(num_classes=num_classes, input_size=input_size)\n",
    "\n",
    "# Loss and optimizer\n",
    "criterion = nn.CrossEntropyLoss()  # Multi-class classification task\n",
    "optimizer = optim.Adam(model.parameters(), lr=0.001)\n",
    "\n",
    "# Dummy training loop (without actual data loader for now)\n",
    "num_epochs = 10\n",
    "for epoch in range(num_epochs):\n",
    "    # Dummy input, let's assume we have a batch of size 64\n",
    "    inputs = torch.randn(64, input_size)\n",
    "    labels = torch.randint(0, num_classes, (64,))  # Random food class labels\n",
    "    \n",
    "    # Forward pass\n",
    "    outputs = model(inputs)\n",
    "    loss = criterion(outputs, labels)\n",
    "    \n",
    "    # Backward pass and optimization\n",
    "    optimizer.zero_grad()\n",
    "    loss.backward()\n",
    "    optimizer.step()\n",
    "\n",
    "    if (epoch+1) % 2 == 0:\n",
    "        print(f'Epoch [{epoch+1}/{num_epochs}], Loss: {loss.item():.4f}')"
   ],
   "id": "35f6098c599b7779",
   "outputs": [
    {
     "name": "stdout",
     "output_type": "stream",
     "text": [
      "Epoch [2/10], Loss: 2.4868\n",
      "Epoch [4/10], Loss: 2.4867\n",
      "Epoch [6/10], Loss: 2.4737\n",
      "Epoch [8/10], Loss: 2.4655\n",
      "Epoch [10/10], Loss: 2.4982\n"
     ]
    }
   ],
   "execution_count": 2
  },
  {
   "metadata": {
    "ExecuteTime": {
     "end_time": "2024-10-16T01:58:50.939687Z",
     "start_time": "2024-10-16T01:58:50.930339Z"
    }
   },
   "cell_type": "code",
   "source": [
    "# Example prediction with all 7 features\n",
    "user_input = torch.tensor([[250, 300, 5, 150, 36, 75, 1.75]])  # Input: width, height, food_class_idx, food_weight, user_age, user_weight, activity_level\n",
    "output = model(user_input)\n",
    "predicted_food_class = torch.argmax(output, dim=1)\n",
    "print(f\"Rekomendasi makanan: {food_classes[predicted_food_class.item()]}\")\n"
   ],
   "id": "2010c4dd85f045ab",
   "outputs": [
    {
     "name": "stdout",
     "output_type": "stream",
     "text": [
      "Rekomendasi makanan: roti\n"
     ]
    }
   ],
   "execution_count": 5
  },
  {
   "metadata": {},
   "cell_type": "code",
   "outputs": [],
   "execution_count": null,
   "source": "",
   "id": "332cc9d3200f0fcf"
  }
 ],
 "metadata": {
  "kernelspec": {
   "display_name": "Python 3",
   "language": "python",
   "name": "python3"
  },
  "language_info": {
   "codemirror_mode": {
    "name": "ipython",
    "version": 2
   },
   "file_extension": ".py",
   "mimetype": "text/x-python",
   "name": "python",
   "nbconvert_exporter": "python",
   "pygments_lexer": "ipython2",
   "version": "2.7.6"
  }
 },
 "nbformat": 4,
 "nbformat_minor": 5
}
