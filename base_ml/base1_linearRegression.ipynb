{
 "cells": [
  {
   "metadata": {},
   "cell_type": "markdown",
   "source": [
    "# Linear Regression Model for Food Weight Prediction\n",
    "\n",
    "## 1. Model Objective\n",
    "The **Linear Regression** model aims to predict the weight of food (in grams) based on the output from a **Computer Vision (YOLO)** model, which provides predictions such as bounding box (food dimensions in the image) and class label (type of food).\n",
    "\n",
    "## 2. Logic and Steps for Building the ML Model\n",
    "\n",
    "### a. Problem to Solve:\n",
    "We want to predict the weight of food based on the bounding box size provided by the CV model. Since the CV model provides information like width, height, and food label, we can use this data to build a regression model that predicts the food's weight.\n",
    "\n",
    "### b. Input from CV (Computer Vision) Model:\n",
    "The **YOLO** model will provide the following output:\n",
    "- **Bounding Box**:\n",
    "  - `width`: The width of the food object.\n",
    "  - `height`: The height of the food object.\n",
    "- **Class Label**: The food type (e.g., rice, fried chicken, vegetables, etc.).\n",
    "\n",
    "### c. Variables Used in the Model:\n",
    "The linear regression model will use the following variables:\n",
    "- **Bounding box width** (`width`)\n",
    "- **Bounding box height** (`height`)\n",
    "- **Food class** (`class label`), which will be one-hot encoded to be used as numerical input in the regression model.\n",
    "\n",
    "### d. Target to Predict:\n",
    "The target variable or output is the **weight** of the food (in grams).\n",
    "\n",
    "### e. Logic Behind Linear Regression:\n",
    "Linear regression works by identifying a linear relationship between input variables (features) and the target (food weight). For example:\n",
    "- The larger the `width` and `height`, the more likely the food weighs more.\n",
    "- The model learns from the data to understand this pattern and provides weight predictions based on the bounding box dimensions and food type.\n",
    "\n",
    "## 3. Dummy Data for Linear Regression Model\n",
    "\n",
    "### a. Input Features (Data from CV Model):\n",
    "We will create dummy data for the input provided by the CV model, including:\n",
    "- **width**: Bounding box width (e.g., between 50 and 300 pixels).\n",
    "- **height**: Bounding box height (e.g., between 50 and 300 pixels).\n",
    "- **class label**: Food type label (e.g., rice, fried chicken, vegetables).\n",
    "\n",
    "### b. Target Output (Food Weight in Grams):\n",
    "We will also create dummy data for the food weight based on the bounding box dimensions and food label. Example:\n",
    "- **weight**: Food weight in grams (e.g., between 50g and 500g).\n",
    "\n",
    "## 4. Model Building Logic Explanation\n",
    "\n",
    "### Creating Dummy Data:\n",
    "- **width** and **height**: These represent the bounding box dimensions of the food detected by the CV model.\n",
    "- **class_label**: The food label predicted by the CV model, which is one-hot encoded for use in the regression model.\n",
    "- **weight**: The target variable (food weight) calculated as a function of `width`, `height`, and `class_label` with some logical rules. For example, \"rice\" is lighter than \"fried chicken.\"\n",
    "\n",
    "### Linear Regression Model:\n",
    "- The model takes input in the form of bounding box dimensions (`width`, `height`) and the one-hot encoded food class label.\n",
    "- The target output is the food weight.\n",
    "\n",
    "### Training Process:\n",
    "- The model is trained using training data (`X_train` and `y_train`), and the model will learn the linear relationship between bounding box size, food type, and food weight.\n",
    "\n",
    "### Prediction:\n",
    "- Once trained, the model can be used to predict the weight of food from new data.\n"
   ],
   "id": "e70d66ac982a20f7"
  },
  {
   "cell_type": "code",
   "id": "initial_id",
   "metadata": {
    "collapsed": true,
    "ExecuteTime": {
     "end_time": "2024-10-13T13:40:31.125923Z",
     "start_time": "2024-10-13T13:40:31.110638Z"
    }
   },
   "source": [
    "import pandas as pd\n",
    "import numpy as np\n",
    "from sklearn.linear_model import LinearRegression\n",
    "from sklearn.model_selection import train_test_split\n",
    "\n",
    "# Membuat dummy data untuk bounding box dan kelas makanan\n",
    "data = {\n",
    "    'width': np.random.randint(50, 300, 100),  # lebar bounding box\n",
    "    'height': np.random.randint(50, 300, 100),  # tinggi bounding box\n",
    "    'class_label': np.random.choice(['nasi', 'ayam_goreng', 'sayuran'], 100)  # label makanan\n",
    "}\n",
    "\n",
    "# Mengubah class_label menjadi one-hot encoding (karena kita tidak bisa memasukkan label secara langsung ke model linier)\n",
    "df = pd.DataFrame(data)\n",
    "df = pd.get_dummies(df, columns=['class_label'])\n",
    "\n",
    "# Menambahkan kolom target (dummy weight), misalnya berat makanan tergantung pada lebar dan tinggi bounding box\n",
    "# Dengan sedikit variasi berdasarkan kelas makanan\n",
    "df['weight'] = (0.5 * df['width']) + (0.3 * df['height']) + \\\n",
    "    np.where(df['class_label_nasi'] == 1, 50, 0) + \\\n",
    "    np.where(df['class_label_ayam_goreng'] == 1, 100, 0) + \\\n",
    "    np.where(df['class_label_sayuran'] == 1, 20, 0) + \\\n",
    "    np.random.normal(0, 10, 100)  # noise tambahan untuk membuat data lebih realistis\n",
    "\n",
    "# Membagi data menjadi input (X) dan target (y)\n",
    "X = df.drop(columns=['weight'])  # Input model: lebar, tinggi, dan one-hot encoded class labels\n",
    "y = df['weight']  # Target model: berat makanan\n",
    "\n",
    "# Split data menjadi data latih dan data uji\n",
    "X_train, X_test, y_train, y_test = train_test_split(X, y, test_size=0.2, random_state=42)\n",
    "\n",
    "# Membuat model regresi linier\n",
    "model = LinearRegression()\n",
    "\n",
    "# Melatih model\n",
    "model.fit(X_train, y_train)\n",
    "\n",
    "# Melakukan prediksi\n",
    "predictions = model.predict(X_test)\n",
    "\n",
    "# Menampilkan hasil\n",
    "print(\"Prediksi Berat Makanan: \", predictions[:5])\n"
   ],
   "outputs": [
    {
     "name": "stdout",
     "output_type": "stream",
     "text": [
      "Prediksi Berat Makanan:  [168.82956855 135.70762741 148.650115   195.80224435 115.64966022]\n"
     ]
    }
   ],
   "execution_count": 4
  },
  {
   "metadata": {},
   "cell_type": "code",
   "outputs": [],
   "execution_count": null,
   "source": "",
   "id": "7860f721da52bfc9"
  }
 ],
 "metadata": {
  "kernelspec": {
   "display_name": "Python 3",
   "language": "python",
   "name": "python3"
  },
  "language_info": {
   "codemirror_mode": {
    "name": "ipython",
    "version": 2
   },
   "file_extension": ".py",
   "mimetype": "text/x-python",
   "name": "python",
   "nbconvert_exporter": "python",
   "pygments_lexer": "ipython2",
   "version": "2.7.6"
  }
 },
 "nbformat": 4,
 "nbformat_minor": 5
}
