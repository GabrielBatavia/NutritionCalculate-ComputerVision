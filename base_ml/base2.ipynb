{
 "cells": [
  {
   "cell_type": "code",
   "execution_count": null,
   "id": "initial_id",
   "metadata": {
    "collapsed": true
   },
   "outputs": [],
   "source": [
    ""
   ]
  },
  {
   "metadata": {
    "ExecuteTime": {
     "end_time": "2024-10-14T03:38:18.525659Z",
     "start_time": "2024-10-14T03:38:17.277583Z"
    }
   },
   "cell_type": "code",
   "source": [
    "import pandas as pd\n",
    "import numpy as np\n",
    "from sklearn.ensemble import RandomForestRegressor\n",
    "from sklearn.model_selection import train_test_split\n",
    "\n",
    "# Membuat dummy data untuk bounding box dan kelas makanan\n",
    "data = {\n",
    "    'width': np.random.randint(50, 300, 100),  # lebar bounding box\n",
    "    'height': np.random.randint(50, 300, 100),  # tinggi bounding box\n",
    "    'class_label': np.random.choice(['nasi', 'ayam_goreng', 'sayuran'], 100)  # label makanan\n",
    "}\n",
    "\n",
    "# Mengubah class_label menjadi one-hot encoding\n",
    "df = pd.DataFrame(data)\n",
    "df = pd.get_dummies(df, columns=['class_label'])\n",
    "\n",
    "# Menambahkan kolom target (dummy weight), berat makanan tergantung pada lebar dan tinggi bounding box\n",
    "df['weight'] = (0.5 * df['width']) + (0.3 * df['height']) + \\\n",
    "    np.where(df['class_label_nasi'] == 1, 50, 0) + \\\n",
    "    np.where(df['class_label_ayam_goreng'] == 1, 100, 0) + \\\n",
    "    np.where(df['class_label_sayuran'] == 1, 20, 0) + \\\n",
    "    np.random.normal(0, 10, 100)  # noise tambahan untuk membuat data lebih realistis\n",
    "\n",
    "# Membagi data menjadi input (X) dan target (y)\n",
    "X = df.drop(columns=['weight'])  # Input model: lebar, tinggi, dan one-hot encoded class labels\n",
    "y = df['weight']  # Target model: berat makanan\n",
    "\n",
    "# Split data menjadi data latih dan data uji\n",
    "X_train, X_test, y_train, y_test = train_test_split(X, y, test_size=0.2, random_state=42)\n",
    "\n",
    "# Membuat model Random Forest Regressor\n",
    "model_rf = RandomForestRegressor(n_estimators=100, random_state=42)\n",
    "\n",
    "# Melatih model\n",
    "model_rf.fit(X_train, y_train)\n",
    "\n",
    "# Melakukan prediksi\n",
    "predictions_rf = model_rf.predict(X_test)\n",
    "\n",
    "# Menampilkan hasil prediksi pertama\n",
    "print(\"Prediksi Berat Makanan dengan Random Forest: \", predictions_rf[:5])\n"
   ],
   "id": "7faac34cee889b7e",
   "outputs": [
    {
     "name": "stdout",
     "output_type": "stream",
     "text": [
      "Prediksi Berat Makanan dengan Random Forest:  [288.34322835 219.03922949 164.33053214 115.10522372 183.75427406]\n"
     ]
    }
   ],
   "execution_count": 1
  },
  {
   "metadata": {},
   "cell_type": "code",
   "outputs": [],
   "execution_count": null,
   "source": "",
   "id": "3d41fa9ac2c5f05d"
  }
 ],
 "metadata": {
  "kernelspec": {
   "display_name": "Python 3",
   "language": "python",
   "name": "python3"
  },
  "language_info": {
   "codemirror_mode": {
    "name": "ipython",
    "version": 2
   },
   "file_extension": ".py",
   "mimetype": "text/x-python",
   "name": "python",
   "nbconvert_exporter": "python",
   "pygments_lexer": "ipython2",
   "version": "2.7.6"
  }
 },
 "nbformat": 4,
 "nbformat_minor": 5
}
